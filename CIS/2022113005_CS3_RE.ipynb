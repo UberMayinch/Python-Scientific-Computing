{
 "cells": [
  {
   "attachments": {},
   "cell_type": "markdown",
   "metadata": {},
   "source": [
    "****\n",
    "<a id='lesson-3'></a>\n",
    "# Lesson-3:  Integration\n",
    "****\n",
    "\n",
    "Computing integrals (numerically) is an important task in many computational fields. In this tutorial we will explore two schemes: \n",
    "- finite difference schemes / grid schemes\n",
    "- Monte Carlo scheme\n",
    "\n",
    "Scipy has 'integrate' function: learn its usage to compuate the 'exact' value of the integral\n",
    "\n",
    "\n",
    "## Grid schemes\n",
    "Typically used for 1-D or 2-D integrals, by evaluating the value of the function on a regular grid and then using approximation schemes like 'trapezoidal rule'\n",
    "\n",
    "## Task-1\n",
    "Following are the sub-tasks\n",
    "- Write a function that takes as input a *function* and interval, and returns the value of the integral. Assume the fuction to be one-dimensional function\n",
    "- Using the above function, find the area of a unit circle\n",
    "\n",
    "\n",
    "\n",
    "## Task-2\n",
    " Exploratory task: Adaptive grid size. When the function changes 'too fast', then next grid point is 'closer' (and change is 'too slow', then next grid point is 'farther'). Using thisi adaptive scheme compute the area of unit circle.\n",
    "\n",
    "\n",
    "\n",
    "## Monte Carlo methods\n",
    "Monte Carlo methods are typically used when we have very large dimensional integrals.\n",
    "\n",
    "## Task-3: Compute the area of the quarter unit circle (1st quadrant)  using <span style='color:red'> simple </span> Monte Carlo method\n",
    "\n",
    "\n",
    "## Task-4 \n",
    "Simple Monte Carlo is almost never used; here is the 'theory' for a more proper usage...\n",
    "\n",
    "Let us consider an integral:\n",
    "$$ I = \\int_a^b f(x)~dx$$\n",
    "where $x\\in \\mathcal{R}^N$. Such multi-dimensional integrals occur in physics, chemistry, all branches of engineering, and one standard technique is to use Monte Carlo sampling. Below is a rather short presenation of connection between sampling and such integrals\n",
    "\n",
    "### Multi-dimensional integrals using Monte Carlo sampling\n",
    "\n",
    "$$I = \\int_a^b dx~f(x) = \\int_a^b dx~\\rho(x) \\left( \\frac{f(x)}{\\rho(x)}\\right) =\\int_a^b \\rho(x)~g(x)~dx $$\n",
    "with the restriction that $\\rho(x)\\ne0\\forall x\\in[a,b]$, and $g(x)={f(x)}/{\\rho(x)}$.  \n",
    "\n",
    "When the fuction $\\rho(x)$ statisfies the following conditions:\n",
    "1. $\\rho(x) \\ge 0~\\forall~x\\in[a,b]$\n",
    "2. $\\int_a^b dx~\\rho(x) = 1$\n",
    "\n",
    "such a function can be considered a probability density function. \n",
    "\n",
    "When $\\rho(x)$ is a probability density function, \n",
    "$$ I = \\int_a^b \\rho(x)~g(x)~dx = \\mathbb{E}_{x\\sim\\rho}~g(x)= \\text{average value of } g(x) \\text{ with } x \\text{ sampled with probability density }\\rho(x)$$\n",
    "The power of the Monte Carlo method comes from the flexibility in the choice of $\\rho(x)$. If $\\rho(x)$ is so chosen that it is also large when $|f(x)|$ is large and $\\rho(x)$ is small when $|f(x)|$ is small, the efficiency of computing the integral is great. In a proper statistics course, this is demostrated by showing that the variance of computation decreases; this will not be attempted here. The 'Monte Carlo' in the name comes from the fact that random sampling of $x$ with probability density $\\rho(x)$; gambling in casinos rely heavily on random numbers.\n",
    "\n",
    "### Task 4.1: Compute area of circle with $\\rho(x)=\\text{constant}$\n",
    "\n",
    "\n",
    "\n",
    "### Task 4.2: Compute the are of the circle with $\\rho(x)$ being the Gaussian distribution (i.e. normal distribution)\n",
    "\n",
    "\n",
    "\n",
    "## Task-5 One simple measure of efficiency of computation\n",
    "\n",
    "What is possible is to check that the efficiency of computation: how 'fast' is the computation? Smaller is the number of function evaluations used, greater is the efficiency. Alternatively, for the same number of function evaluations, lower error would mean greater efficiency.\n",
    "\n",
    "Compute the graph of $N$ vs $error(N)$ where $N$ is the number of function computations, under various schemes listed below:\n",
    "1. Naive Monte Carlo\n",
    "2. Importance Sampling with uniform  distrituion\n",
    "3. Importance Sampling with Gaussian districutuion\n",
    "\n"
   ]
  },
  {
   "cell_type": "code",
   "execution_count": 2,
   "metadata": {},
   "outputs": [
    {
     "data": {
      "text/plain": [
       "(2.0, 2.220446049250313e-14)"
      ]
     },
     "execution_count": 2,
     "metadata": {},
     "output_type": "execute_result"
    }
   ],
   "source": [
    "import numpy as np\n",
    "from scipy.integrate import quad\n",
    "from sympy import sympify, lambdify, sqrt\n",
    "from sympy.abc import x\n",
    "import matplotlib.pyplot as plt\n",
    "\n",
    "def f(x):\n",
    "    return np.sin(x) \n",
    "\n",
    "quad(f, 0, np.pi)"
   ]
  },
  {
   "attachments": {},
   "cell_type": "markdown",
   "metadata": {},
   "source": [
    "### Solution to Task 1.1\n",
    "We basically use the sympify and lambdify functions of the sympy library to take input of a 1D function,\n",
    "and also the lower and upper limits. We pass all of these to the quad function from the scipy libary to \n",
    "evaluate the integral numerically. We do not need the error which it outputs so we only return the integral\n",
    "value."
   ]
  },
  {
   "cell_type": "code",
   "execution_count": 3,
   "metadata": {},
   "outputs": [
    {
     "name": "stdout",
     "output_type": "stream",
     "text": [
      "Numerical value of the integral: 38.992499745010406\n"
     ]
    }
   ],
   "source": [
    "\n",
    "def integrate_function(f, a, b, n =10000):\n",
    "    expr = sympify(f)  \n",
    "    f_numeric = lambdify(x, expr)  \n",
    "    \n",
    "    slope = (f_numeric(b) - f_numeric(a)) / (b - a)\n",
    "    \n",
    "    t = np.linspace(a, b, n)\n",
    "    i = 0\n",
    "    j = 1\n",
    "    integral_value = 0\n",
    "    f_val = [f_numeric(j) for j in t]\n",
    "    \n",
    "    while j in range(n-1):\n",
    "        if ((f_val[j] - f_val[i]) / (t[j] - t[i]) > slope and\n",
    "        j != n and\n",
    "        not ((f_val[j + 1] - f_val[j]) == 0) and\n",
    "        not ((f_val[j + 1] - f_val[j]) / (f_val[j] - f_val[j - 1]))):\n",
    "            j += 1\n",
    "        else:\n",
    "            integral_value += (0.5 * (f_val[j] + f_val[i]) * (t[j] - t[i]))\n",
    "            i += 1\n",
    "            j += 1\n",
    "\n",
    "    return integral_value\n",
    "\n",
    "function_string = input(\"Enter the function to integrate (in terms of x): \")\n",
    "lower_limit = float(input(\"Enter the lower limit of the interval: \"))\n",
    "upper_limit = float(input(\"Enter the upper limit of the interval: \"))\n",
    "\n",
    "integral = integrate_function(function_string, lower_limit, upper_limit)\n",
    "print(\"Numerical value of the integral:\", integral)\n"
   ]
  },
  {
   "attachments": {},
   "cell_type": "markdown",
   "metadata": {},
   "source": [
    "## Solution to Task 1.2\n",
    "We pass the required limits to calculate the integral of the circle."
   ]
  },
  {
   "cell_type": "code",
   "execution_count": 4,
   "metadata": {},
   "outputs": [
    {
     "name": "stdout",
     "output_type": "stream",
     "text": [
      "Numerical value of the integral: 3.141585326531584\n"
     ]
    }
   ],
   "source": [
    "function_string = (1-x**2)**(0.5)\n",
    "lower_limit = -1\n",
    "upper_limit = 1\n",
    "\n",
    "integral = 2*integrate_function(function_string, lower_limit, upper_limit)\n",
    "print(\"Numerical value of the integral:\", integral)"
   ]
  },
  {
   "attachments": {},
   "cell_type": "markdown",
   "metadata": {},
   "source": [
    "## Solution to Task 2\n",
    "Here we have to implement adaptive grid sizes method for integration. We divide the interval into many points and use trapezoidal integration at each point with the additional constraint that if the slope between the function calculated at these points is higher than the slope over the whole function we iteratively consider larger intervals. This is possible because of the mean value theorem."
   ]
  },
  {
   "cell_type": "code",
   "execution_count": 5,
   "metadata": {},
   "outputs": [
    {
     "name": "stdout",
     "output_type": "stream",
     "text": [
      "38.92497451053304\n"
     ]
    }
   ],
   "source": [
    "def adaptive_integral(f, a, b, n=10000):\n",
    "    expr = sympify(f)  \n",
    "    f_numeric = lambdify(x, expr)\n",
    "    \n",
    "    slope = (f_numeric(b) - f_numeric(a)) / (b - a)\n",
    "    \n",
    "    t = np.linspace(a, b, n)\n",
    "    i = 0\n",
    "    j = 1\n",
    "    sum = 0\n",
    "    f_val = [f_numeric(j) for j in t]\n",
    "    \n",
    "    while j in range(n-1):\n",
    "        if ((f_val[j] - f_val[i]) / (t[j] - t[i]) > slope and\n",
    "        j != n and\n",
    "        not ((f_val[j + 1] - f_val[j]) == 0) and\n",
    "        not ((f_val[j + 1] - f_val[j]) / (f_val[j] - f_val[j - 1]))):\n",
    "            j += 1\n",
    "        else:\n",
    "            sum += (0.5 * (f_val[j] + f_val[i]) * (t[j] - t[i]))\n",
    "            i += 1\n",
    "            j += 1\n",
    "    print(sum)\n",
    "    \n",
    "function_string = input(\"Enter the function to integrate (in terms of x): \")\n",
    "lower_limit = float(input(\"Enter the lower limit of the interval: \"))\n",
    "upper_limit = float(input(\"Enter the upper limit of the interval: \"))\n",
    "\n",
    "integral = adaptive_integral(function_string, lower_limit, upper_limit, 1000) "
   ]
  },
  {
   "cell_type": "code",
   "execution_count": 6,
   "metadata": {},
   "outputs": [
    {
     "name": "stdout",
     "output_type": "stream",
     "text": [
      "The area of the circle is 3.1413607013855898\n"
     ]
    }
   ],
   "source": [
    "def adaptive_integral(f, a, b, n=10000):\n",
    "    expr = sympify(f)  \n",
    "    f_numeric = lambdify(x, expr)\n",
    "    \n",
    "    slope = (f_numeric(b) - f_numeric(a)) / (b - a)\n",
    "    \n",
    "    t = np.linspace(a, b, n)\n",
    "    i = 0\n",
    "    j = 1\n",
    "    sum = 0\n",
    "    f_val = [f_numeric(j) for j in t]\n",
    "    \n",
    "    while j in range(n-1):\n",
    "        if ((f_val[j] - f_val[i]) / (t[j] - t[i]) > slope and\n",
    "        j != n and\n",
    "        not ((f_val[j + 1] - f_val[j]) == 0) and\n",
    "        not ((f_val[j + 1] - f_val[j]) / (f_val[j] - f_val[j - 1]))):\n",
    "            j += 1\n",
    "        else:\n",
    "            sum += (0.5 * (f_val[j] + f_val[i]) * (t[j] - t[i]))\n",
    "            i += 1\n",
    "            j += 1\n",
    "    return sum\n",
    "    \n",
    "function_string = \"(1-x**2)**(0.5)\"\n",
    "lower_limit = -1\n",
    "upper_limit = 1\n",
    "\n",
    "integral = 2*adaptive_integral(function_string, lower_limit, upper_limit, 1000) \n",
    "\n",
    "print(f\"The area of the circle is {integral}\")"
   ]
  },
  {
   "attachments": {},
   "cell_type": "markdown",
   "metadata": {},
   "source": [
    "## Solution to Task 3\n",
    "We will use SIMPLE Monte Carlo Methods by finding the probability that\n",
    "a randomly selected point in the unit square in the first quadrant is also\n",
    "inside the unit circle.\n",
    "\n",
    "For a relatively large number of points this ratio gives us the ratio of the areas of these two figures.\n",
    "\n",
    "$\\lim_{n \\to +\\infty} \\frac{Number of Points in Circle}{Number of Points in Square} = \\frac{[Circle]}{[Square]}$\n",
    "\n",
    "where $[Circle]$ Denotes the area of the Circle\n",
    "    \t    \n",
    "Since the Riemann integral is the area under the sum this gives us another \n",
    "method to calculate the integral.\n"
   ]
  },
  {
   "cell_type": "code",
   "execution_count": 7,
   "metadata": {},
   "outputs": [
    {
     "name": "stdout",
     "output_type": "stream",
     "text": [
      "Estimated area of the first quadrant of the unit circle: 1.0\n"
     ]
    }
   ],
   "source": [
    "import random\n",
    "\n",
    "def find_area(num_points):\n",
    "    points_inside_circle = 0\n",
    "    points_inside_square = 0\n",
    "\n",
    "    for _ in range(num_points):\n",
    "        x = random.random()  \n",
    "        y = random.random()  \n",
    "\n",
    "        if x**2 + y**2 <= 1:  \n",
    "            points_inside_circle += 1\n",
    "\n",
    "        points_inside_square += 1\n",
    "\n",
    "    ratio = points_inside_circle / points_inside_square\n",
    "    estimated_area = ratio   \n",
    "    \n",
    "    return estimated_area\n",
    "\n",
    "num_points = 10\n",
    "estimated_area = find_area(num_points)\n",
    "print(f\"Estimated area of the first quadrant of the unit circle: {estimated_area}\")"
   ]
  },
  {
   "attachments": {},
   "cell_type": "markdown",
   "metadata": {},
   "source": [
    "## Solution to Task 4.1\n",
    "Here we are using the random.uniform function to generate random numbers on the positive x axis. We average the value of the circle function in the positive half plane over these points with the given probability distribution and in the limit that we use a relatively large number of points we obtain a good approximation for the circles area by multiplying this by 4. "
   ]
  },
  {
   "cell_type": "code",
   "execution_count": 8,
   "metadata": {},
   "outputs": [
    {
     "name": "stdout",
     "output_type": "stream",
     "text": [
      "Estimated area of the circle: 3.361759083681587\n"
     ]
    }
   ],
   "source": [
    "import math\n",
    "\n",
    "def circle_area_uniform(radius, num_points):\n",
    "    sum = 0\n",
    "    for _ in range(num_points):\n",
    "        x = random.uniform(0, radius)\n",
    "        if(x < radius):\n",
    "            f_x= (radius**2 - x ** 2)**(0.5)\n",
    "        else:\n",
    "            f_x=0\n",
    "        sum+=f_x\n",
    "    \n",
    "    return (sum / num_points)*radius\n",
    "\n",
    "\n",
    "radius = 1.0  \n",
    "num_points = 10\n",
    "estimated_area = circle_area_uniform(radius, num_points)\n",
    "estimated_area *= 4\n",
    "\n",
    "print(f\"Estimated area of the circle: {estimated_area}\")\n"
   ]
  },
  {
   "attachments": {},
   "cell_type": "markdown",
   "metadata": {},
   "source": [
    "## Solution to Task 4.2\n",
    "Here we will utilize a gaussian distribution as the probability distribution for our monte carlo due to which more points will be generated which belong to a certain region thus effectively weighting that region more. This leads to a more accurate estimation of the area of our figure with the same number of points."
   ]
  },
  {
   "cell_type": "code",
   "execution_count": 9,
   "metadata": {},
   "outputs": [
    {
     "name": "stdout",
     "output_type": "stream",
     "text": [
      "Estimated area of the circle: 3.194920797566101\n"
     ]
    }
   ],
   "source": [
    "import random\n",
    "import math\n",
    "import numpy as np\n",
    "\n",
    "def gaussian(x, mean, sigma):\n",
    "    ans = np.exp(-(x - mean)**2 / (2 * (sigma**2))) / (sigma * np.sqrt(2 * np.pi))\n",
    "    return ans\n",
    "\n",
    "def circle_area_gaussian(radius, num_points):\n",
    "    total_area = 0.0\n",
    "    \n",
    "    for _ in range(num_points):\n",
    "        x = random.gauss(0, 1)  \n",
    "        if(x**2 <= radius**2):\n",
    "            f_x = (radius**2 - x**2)**0.5 / gaussian(x, 0, radius) \n",
    "        else:\n",
    "            f_x=0\n",
    "            \n",
    "        total_area += f_x\n",
    "    \n",
    "    return (total_area / num_points)\n",
    "\n",
    "radius = 1.0\n",
    "num_points = 1000\n",
    "estimated_area = 2 * circle_area_gaussian(radius, num_points)\n",
    "\n",
    "print(f\"Estimated area of the circle: {estimated_area}\")\n",
    "\n"
   ]
  },
  {
   "attachments": {},
   "cell_type": "markdown",
   "metadata": {},
   "source": [
    "## Solution to Task 5\n",
    "Here we will compute the values through the 3 methods previously shown in the worksheet for different values of N and compare the error we have. "
   ]
  },
  {
   "cell_type": "code",
   "execution_count": 10,
   "metadata": {},
   "outputs": [],
   "source": [
    "def iterativeNaiveDriver(area, num_points):\n",
    "    total_points=(area/4)*num_points\n",
    "    x = random.random()  \n",
    "    y = random.random()  \n",
    "\n",
    "    if x**2 + y**2 <= 1:  \n",
    "        total_points += 1\n",
    "\n",
    "    estimated_area=total_points/(num_points+1)\n",
    "    return estimated_area*4\n",
    "\n",
    "def iterativeNaive(num_iters):\n",
    "    areas=[]\n",
    "    areas.append(0)\n",
    "    for i in range(1,num_iters):\n",
    "        areas.append(iterativeNaiveDriver(areas[i-1], i))\n",
    "    return areas\n",
    "\n",
    "def iterativeGaussianDriver(radius, area, num_points):\n",
    "    \n",
    "    x = random.gauss(0, 1)  \n",
    "    if(x**2 <= radius**2):\n",
    "            f_x = (radius**2 - x**2)**0.5 / gaussian(x, 0, radius)\n",
    "    else:\n",
    "            f_x=0\n",
    "            \n",
    "    total_area = 2*f_x+(area*num_points)\n",
    "    \n",
    "    return (total_area/(num_points+1))\n",
    "\n",
    "def iterativeGaussian(num_iters):\n",
    "    areas=[]\n",
    "    areas.append(0)\n",
    "    for i in range(1,num_iters):\n",
    "        areas.append(iterativeGaussianDriver(1, areas[i-1], i))\n",
    "    return areas\n",
    "\n",
    "def iterativeUniformDriver(radius, area, num_points):\n",
    "    \n",
    "    x = random.random()  \n",
    "    if(x**2 <= radius**2):\n",
    "            f_x = (radius**2 - x**2)**0.5 \n",
    "    else:\n",
    "            f_x=0\n",
    "            \n",
    "    total_area = 4*f_x+(area*num_points)\n",
    "    \n",
    "    return (total_area/(num_points+1))\n",
    "\n",
    "def iterativeUniform(num_iters):\n",
    "    areas=[]\n",
    "    areas.append(0)\n",
    "    for i in range(1,num_iters):\n",
    "        areas.append(iterativeUniformDriver(1, areas[i-1], i))\n",
    "    return areas\n",
    "\n"
   ]
  },
  {
   "cell_type": "code",
   "execution_count": 27,
   "metadata": {},
   "outputs": [
    {
     "data": {
      "image/png": "[encoded data removed]",
      "text/plain": [
       "<Figure size 640x480 with 1 Axes>"
      ]
     },
     "metadata": {},
     "output_type": "display_data"
    }
   ],
   "source": [
    "n=[i for i in range(50)]\n",
    "\n",
    "naive=iterativeNaive(50)\n",
    "Uniform=iterativeUniform(50)\n",
    "Gauss=iterativeGaussian(50)\n",
    "\n",
    "\n",
    "def calculate_error_percentage(areas):\n",
    "    pi = math.pi\n",
    "    errors = []\n",
    "    \n",
    "    for area in areas:\n",
    "        error = abs(area - pi) / pi * 100\n",
    "        errors.append(error)\n",
    "    \n",
    "    return errors\n",
    "\n",
    "\n",
    "naive_errors = calculate_error_percentage(naive)\n",
    "uniform_errors = calculate_error_percentage(Uniform)\n",
    "gaussian_errors = calculate_error_percentage(Gauss)\n",
    "\n",
    "plt.plot(n, naive_errors, label='Naive Monte Carlo')\n",
    "plt.plot(n, uniform_errors, label='Monte Carlo with Uniform Sampling')\n",
    "plt.plot(n, gaussian_errors, label='Monte Carlo with Importance Sampling')\n",
    "plt.xlabel('n')\n",
    "plt.ylabel('Error Percentage')\n",
    "plt.title('Error in Estimating Circle Area')\n",
    "plt.legend()\n",
    "plt.show()\n"
   ]
  },
  {
   "attachments": {},
   "cell_type": "markdown",
   "metadata": {},
   "source": [
    "Hence, we can see that naive monte carlo methods have a higher percentage error for the same number of iterations and hence they are not preferred in practical situations. For this smaller sample size, our monte carlo with importance sampling barely outperforms our gaussian sampled monte carlo however for larger values our importance sampling will outperform our uniform sampling monte carlo."
   ]
  }
 ],
 "metadata": {
  "kernelspec": {
   "display_name": "Python 3 (ipykernel)",
   "language": "python",
   "name": "python3"
  },
  "language_info": {
   "codemirror_mode": {
    "name": "ipython",
    "version": 3
   },
   "file_extension": ".py",
   "mimetype": "text/x-python",
   "name": "python",
   "nbconvert_exporter": "python",
   "pygments_lexer": "ipython3",
   "version": "3.10.6"
  }
 },
 "nbformat": 4,
 "nbformat_minor": 2
}
