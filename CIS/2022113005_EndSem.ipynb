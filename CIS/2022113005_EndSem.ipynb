{
 "cells": [
  {
   "attachments": {},
   "cell_type": "markdown",
   "metadata": {},
   "source": [
    "dimer interaction is given by $a(x-x_{0})^2$\n",
    "For all other particles of the system only Leonard Jones Energy will be considered for the PE Calculation. Hence if we have N particles in the system the potential energy of a configuration is:-\n",
    "\n",
    "$$U=\\sum_{i, j=1, i \\ne j}^{N+2}U_{LJ} + a(x-x_{0})^2$$"
   ]
  },
  {
   "cell_type": "code",
   "execution_count": 8,
   "metadata": {},
   "outputs": [],
   "source": [
    "import numpy as np\n",
    "import matplotlib.pyplot as plt\n",
    "import sympy as sp\n",
    "from mpl_toolkits import mplot3d\n",
    "import math"
   ]
  },
  {
   "cell_type": "code",
   "execution_count": 9,
   "metadata": {},
   "outputs": [],
   "source": [
    "epsilon =1\n",
    "sigma = 1\n",
    "kT=1\n",
    "numParticles = 36\n",
    "dimers=1\n",
    "dim = 2 ## square box, periodic boundary conditions to be implemented\n",
    "boxL = 6\n",
    "a=2\n",
    "x0=1\n",
    "T=1"
   ]
  },
  {
   "cell_type": "code",
   "execution_count": 10,
   "metadata": {},
   "outputs": [],
   "source": [
    "def initialize_positions(numParticles, dim, boxL, dimers):\n",
    "    positions = np.random.random_sample( (numParticles+2*dimers, dim)) * boxL\n",
    "    return positions\n",
    "\n",
    "positions=initialize_positions(numParticles, dim, boxL, dimers)\n",
    "\n",
    "#dimer positions will be initialized along with particle positions\n",
    "#we will always assume that the last two indices of the positions\n",
    "#array indicate the positions of the dimer.\n",
    "\n",
    "\n",
    "# print(positions)\n",
    "# print(positions[-1], positions[-2])\n",
    "# print(np.shape(positions))\n"
   ]
  },
  {
   "cell_type": "code",
   "execution_count": 11,
   "metadata": {},
   "outputs": [
    {
     "data": {
      "text/plain": [
       "-0.0013591265710228351"
      ]
     },
     "execution_count": 11,
     "metadata": {},
     "output_type": "execute_result"
    }
   ],
   "source": [
    "def pairwise_LJ_Energy(sigma, epsilon, particle,interaction, positions, boxL):\n",
    "    dimensions=np.shape(positions)[1]\n",
    "    r=0\n",
    "    energy=0\n",
    "    for dim in range(dimensions):\n",
    "\n",
    "        ## Boundary Conditions Implemented\n",
    "        positions[particle][dim]%= boxL\n",
    "        positions[interaction][dim]%= boxL\n",
    "        r+=(np.minimum(abs(positions[particle][dim]-positions[interaction][dim]), boxL-abs(positions[particle][dim]-positions[interaction][dim])))**2\n",
    "        # print(math.sqrt(r))\n",
    "        # print(r)\n",
    "        \n",
    "    energy+=4*epsilon*(((sigma**12)/(r**6)) - ((sigma**6)/(r**3)))\n",
    "    # print(energy)\n",
    "    return energy\n",
    "\n",
    "\n",
    "pairwise_LJ_Energy(sigma, epsilon, 1, 2, positions, 6)"
   ]
  },
  {
   "cell_type": "code",
   "execution_count": 12,
   "metadata": {},
   "outputs": [
    {
     "data": {
      "text/plain": [
       "0.11501919251371985"
      ]
     },
     "execution_count": 12,
     "metadata": {},
     "output_type": "execute_result"
    }
   ],
   "source": [
    "def dimerEnergy(a, x0, positions, boxL):\n",
    "    dimensions=np.shape(positions)[1]\n",
    "    x=0.0\n",
    "    for dim in range(dimensions):\n",
    "        ## Boundary Conditions Implemented\n",
    "\n",
    "        positions[-1][dim]%= boxL\n",
    "        positions[-2][dim]%= boxL\n",
    "        # print(min(abs(positions[-1][dim]-positions[-2][dim]),boxL-abs(positions[-1][dim]-positions[-2][dim])))\n",
    "        x+=(np.minimum(abs(positions[-1][dim]-positions[-2][dim]), boxL-abs(positions[-1][dim]-positions[-2][dim])))**2\n",
    "        \n",
    "    return a*(x-x0**2)**2\n",
    "\n",
    "dimerEnergy(a, x0, positions, boxL)"
   ]
  },
  {
   "cell_type": "code",
   "execution_count": 13,
   "metadata": {},
   "outputs": [
    {
     "data": {
      "text/plain": [
       "680419076259340.6"
      ]
     },
     "execution_count": 13,
     "metadata": {},
     "output_type": "execute_result"
    }
   ],
   "source": [
    "def TotalPE(positions, a, x0, boxL, sigma, epsilon):\n",
    "    totPE=0.0\n",
    "    totPE+=dimerEnergy(a, x0, positions, boxL)\n",
    "    numParticles=np.shape(positions)[0]\n",
    "\n",
    "    ## we iterate through whole array because the dimer particles\n",
    "    ## have leonard jones interactions as well\n",
    "\n",
    "    for particle in range(numParticles):\n",
    "        for interaction in range(particle+1, numParticles):\n",
    "            totPE += 2*pairwise_LJ_Energy(sigma, epsilon, particle,interaction, positions, boxL)\n",
    "    \n",
    "    return totPE\n",
    "\n",
    "TotalPE(positions, a, x0, boxL, sigma, epsilon)\n"
   ]
  },
  {
   "cell_type": "code",
   "execution_count": 14,
   "metadata": {},
   "outputs": [],
   "source": [
    "def MCMC_Translate(positions, T):\n",
    "\n",
    "    numParticles=np.shape(positions)[0]\n",
    "    dimensions=np.shape(positions)[1]\n",
    "    newPositions=np.matrix.copy(positions)\n",
    "\n",
    "    # select a particle randomly\n",
    "\n",
    "    choice=np.random.randint(0, numParticles-1)\n",
    "    \n",
    "    # print(choice)\n",
    "\n",
    "    # perform random perturbation of the selected particle \n",
    "    # (we have used a gaussian distribution)\n",
    "    \n",
    "    for _ in range(dimensions):\n",
    "        # print(positions[choices[_]][_])\n",
    "\n",
    "        newPositions[choice][_]*=np.random.normal(loc=1, scale=0.05)\n",
    "        # print(newPositions[choice]-positions[choice])\n",
    "        # print(positions[choices[_]][_])\n",
    "        # newPositions[-1][_]*=np.random.normal(loc=1, scale=0.05)\n",
    "        # newPositions[-2][_]*=np.random.normal(loc=1, scale=0.05)\n",
    "        \n",
    "    # compute U_{after} - U_{before}, and acceptance probabilty\n",
    "    U1=TotalPE(positions, a, x0, boxL, sigma, epsilon)\n",
    "    U2=TotalPE(newPositions, a, x0, boxL, sigma, epsilon)\n",
    "    \n",
    "    # print(U2)\n",
    "    delta=U2-U1\n",
    "    # print(delta)\n",
    "\n",
    "    # accept or reject?  i.e. set accept=1 or 0 accordingly\n",
    "    if delta < 0:\n",
    "        acceptProb=1\n",
    "    else:\n",
    "        x=np.random.rand()\n",
    "        ##assuming k_B = 1\n",
    "        if(x < math.exp((-1/T)*(delta))):\n",
    "            acceptProb=1\n",
    "        else:\n",
    "            acceptProb=0\n",
    "            \n",
    "        \n",
    "    # print(acceptProb)\n",
    "\n",
    "    # if reject, undo the move, to get back to 'before' configuration\n",
    "    if (acceptProb):\n",
    "        # print(\"1\")\n",
    "        # print(newPositions[-1]-positions[-1])\n",
    "        return newPositions\n",
    "    else:\n",
    "        # print(\"0\")\n",
    "        return positions\n",
    "    # return accept\n",
    "\n",
    "positions=MCMC_Translate(positions, T)\n"
   ]
  },
  {
   "cell_type": "code",
   "execution_count": 15,
   "metadata": {},
   "outputs": [
    {
     "data": {
      "image/png": "[encoded data removed]",
      "text/plain": [
       "<Figure size 640x480 with 1 Axes>"
      ]
     },
     "metadata": {},
     "output_type": "display_data"
    }
   ],
   "source": [
    "def Plot_XY(config):\n",
    "    numParticles=np.shape(config)[0]\n",
    "    X=[]\n",
    "    Y=[]\n",
    "    for _ in range(numParticles):\n",
    "        X.append(config[_][0])\n",
    "        Y.append(config[_][1])\n",
    "    \n",
    "    plt.scatter(X, Y)\n",
    "    plt.show()\n",
    "\n",
    "\n",
    "Plot_XY(positions)"
   ]
  },
  {
   "cell_type": "code",
   "execution_count": 16,
   "metadata": {},
   "outputs": [],
   "source": [
    "\n",
    "\n",
    "# generate chain of configurations\n",
    "def MonteCarloSimulation(initial_config, numSteps, boxL, T):\n",
    "    x_dist=[]\n",
    "    dimensions=np.shape(initial_config)[1]\n",
    "    systemState=np.matrix.copy(initial_config)\n",
    "\n",
    "    for stepNumber in range(numSteps):\n",
    "        systemState=MCMC_Translate(systemState, T)\n",
    "        if stepNumber % 38 == 0:\n",
    "            x=0\n",
    "            for dim in range(dimensions):\n",
    "             ## Boundary Conditions Implemented\n",
    "                systemState[-1][dim]%= boxL\n",
    "                systemState[-2][dim]%= boxL\n",
    "                x+=(np.minimum(abs(systemState[-1][dim]-systemState[-2][dim]), boxL-abs(systemState[-1][dim]-systemState[-2][dim])))**2\n",
    "        \n",
    "            x_dist.append(math.sqrt(x))\n",
    "        \n",
    "      \n",
    "        \n",
    "    return x_dist\n",
    "\n",
    "\n",
    "# np.shape(MonteCarloSimulation(positions2D, 10))\n",
    "x_Values=MonteCarloSimulation(positions, 2280, boxL, 1)\n"
   ]
  },
  {
   "attachments": {},
   "cell_type": "markdown",
   "metadata": {},
   "source": [
    "We consider the first 570 steps of this Monte Carlo Simulation to be equillibration steps. We will start recording the system's probability distribution x_values after that. We have recorded the x values every 38 steps because each step in the markov chain is highly correlated. By giving #numParticles time steps between each observation we will assume that the system has gotten enough time for the previous state to be $\\bold{decorrelated}$ with the next state."
   ]
  },
  {
   "cell_type": "code",
   "execution_count": 17,
   "metadata": {},
   "outputs": [
    {
     "data": {
      "text/plain": [
       "(array([ 9.,  0.,  0.,  0.,  0.,  0.,  0.,  0.,  0.,  0.,  0.,  0.,  0.,\n",
       "         0.,  0.,  0.,  0.,  0.,  9.,  0.,  0.,  0.,  0.,  0.,  0.,  4.,\n",
       "         0.,  0.,  0.,  0., 17.,  0.,  0.,  0.,  0.,  0.,  0.,  0.,  0.,\n",
       "         0.,  0.,  0.,  0.,  0.,  0.,  0.,  0.,  0.,  0.,  4.]),\n",
       " array([1.49278503, 1.5029842 , 1.51318337, 1.52338254, 1.53358171,\n",
       "        1.54378088, 1.55398006, 1.56417923, 1.5743784 , 1.58457757,\n",
       "        1.59477674, 1.60497591, 1.61517509, 1.62537426, 1.63557343,\n",
       "        1.6457726 , 1.65597177, 1.66617094, 1.67637012, 1.68656929,\n",
       "        1.69676846, 1.70696763, 1.7171668 , 1.72736597, 1.73756514,\n",
       "        1.74776432, 1.75796349, 1.76816266, 1.77836183, 1.788561  ,\n",
       "        1.79876017, 1.80895935, 1.81915852, 1.82935769, 1.83955686,\n",
       "        1.84975603, 1.8599552 , 1.87015438, 1.88035355, 1.89055272,\n",
       "        1.90075189, 1.91095106, 1.92115023, 1.9313494 , 1.94154858,\n",
       "        1.95174775, 1.96194692, 1.97214609, 1.98234526, 1.99254443,\n",
       "        2.00274361]),\n",
       " <BarContainer object of 50 artists>)"
      ]
     },
     "execution_count": 17,
     "metadata": {},
     "output_type": "execute_result"
    },
    {
     "data": {
      "image/png": "[encoded data removed]",
      "text/plain": [
       "<Figure size 640x480 with 1 Axes>"
      ]
     },
     "metadata": {},
     "output_type": "display_data"
    }
   ],
   "source": [
    "plt.hist(x_Values[15:], 50)\n",
    "\n",
    "\n",
    "# maxima=np.amax(x_Values)\n",
    "# minima=np.amin(x_Values)\n",
    "# dx=np.linspace(minima, maxima, 100)\n",
    "# print(dx)\n",
    "# for x in x_Values:\n",
    "#     for i in dx:\n",
    "#         if((i != dx[99] and i != dx[0]) and (x <= i) and (x > i-1)):\n",
    "# print(maxima, minima)\n",
    "# t=np.linspace(15, 45, 1)\n",
    "# plt.plot(x_Values[15:], )\n"
   ]
  },
  {
   "cell_type": "markdown",
   "metadata": {},
   "source": [
    "This plots the probability distribution for a given kT. We see that the maximum probability of the x value peaks around 1.95 and 1.85. We know that $\\beta = \\frac{1}{k_{B}T}$ so by plotting values for different T, we will be able to see the probability distribution of x vs T.\n",
    "\n"
   ]
  },
  {
   "cell_type": "code",
   "execution_count": 18,
   "metadata": {},
   "outputs": [
    {
     "name": "stderr",
     "output_type": "stream",
     "text": [
      "/tmp/ipykernel_141073/680736544.py:39: RuntimeWarning: divide by zero encountered in scalar divide\n",
      "  if(x < math.exp((-1/T)*(delta))):\n"
     ]
    }
   ],
   "source": [
    "T_vals=np.linspace(1, 301, 12)\n",
    "\n",
    "ans=[]\n",
    "for t in T_vals:\n",
    "    x_vals=0\n",
    "    x_vals=MonteCarloSimulation(positions, 1140, boxL, t)\n",
    "    ans.append(np.mean(x_vals[15:]))\n",
    "\n",
    "plt.plot(x_vals, t)\n"
   ]
  },
  {
   "cell_type": "code",
   "execution_count": null,
   "metadata": {},
   "outputs": [],
   "source": []
  }
 ],
 "metadata": {
  "kernelspec": {
   "display_name": "Python 3",
   "language": "python",
   "name": "python3"
  },
  "language_info": {
   "codemirror_mode": {
    "name": "ipython",
    "version": 3
   },
   "file_extension": ".py",
   "mimetype": "text/x-python",
   "name": "python",
   "nbconvert_exporter": "python",
   "pygments_lexer": "ipython3",
   "version": "3.10.6"
  },
  "orig_nbformat": 4
 },
 "nbformat": 4,
 "nbformat_minor": 2
}
